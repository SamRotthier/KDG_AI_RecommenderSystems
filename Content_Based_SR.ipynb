{
 "cells": [
  {
   "cell_type": "markdown",
   "source": [
    "## Content Based Recommendation"
   ],
   "metadata": {
    "collapsed": false,
    "pycharm": {
     "name": "#%% md\n"
    },
    "id": "pF-R6VCDGTeK"
   }
  },
  {
   "cell_type": "markdown",
   "source": [
    "## Import the dataset\n",
    "Dataset= https://www.kaggle.com/datasets/trolukovich/steam-games-complete-dataset\n",
    "In this Notebook the dataset steam_games.csv is used.\n"
   ],
   "metadata": {
    "collapsed": false,
    "pycharm": {
     "name": "#%% md\n"
    },
    "id": "ssyXL_ZjGTeL"
   }
  },
  {
   "cell_type": "code",
   "execution_count": 5,
   "outputs": [
    {
     "data": {
      "text/plain": "          0      1     2             3               4            5   \\\ncolumns  url  types  name  desc_snippet  recent_reviews  all_reviews   \n\n                   6          7          8             9             10  \\\ncolumns  release_date  developer  publisher  popular_tags  game_details   \n\n                11            12     13                14              15  \\\ncolumns  languages  achievements  genre  game_description  mature_content   \n\n                           16                        17              18  \\\ncolumns  minimum_requirements  recommended_requirements  original_price   \n\n                     19  \ncolumns  discount_price  ",
      "text/html": "<div>\n<style scoped>\n    .dataframe tbody tr th:only-of-type {\n        vertical-align: middle;\n    }\n\n    .dataframe tbody tr th {\n        vertical-align: top;\n    }\n\n    .dataframe thead th {\n        text-align: right;\n    }\n</style>\n<table border=\"1\" class=\"dataframe\">\n  <thead>\n    <tr style=\"text-align: right;\">\n      <th></th>\n      <th>0</th>\n      <th>1</th>\n      <th>2</th>\n      <th>3</th>\n      <th>4</th>\n      <th>5</th>\n      <th>6</th>\n      <th>7</th>\n      <th>8</th>\n      <th>9</th>\n      <th>10</th>\n      <th>11</th>\n      <th>12</th>\n      <th>13</th>\n      <th>14</th>\n      <th>15</th>\n      <th>16</th>\n      <th>17</th>\n      <th>18</th>\n      <th>19</th>\n    </tr>\n  </thead>\n  <tbody>\n    <tr>\n      <th>columns</th>\n      <td>url</td>\n      <td>types</td>\n      <td>name</td>\n      <td>desc_snippet</td>\n      <td>recent_reviews</td>\n      <td>all_reviews</td>\n      <td>release_date</td>\n      <td>developer</td>\n      <td>publisher</td>\n      <td>popular_tags</td>\n      <td>game_details</td>\n      <td>languages</td>\n      <td>achievements</td>\n      <td>genre</td>\n      <td>game_description</td>\n      <td>mature_content</td>\n      <td>minimum_requirements</td>\n      <td>recommended_requirements</td>\n      <td>original_price</td>\n      <td>discount_price</td>\n    </tr>\n  </tbody>\n</table>\n</div>"
     },
     "execution_count": 5,
     "metadata": {},
     "output_type": "execute_result"
    }
   ],
   "source": [
    "import pandas as pd\n",
    "\n",
    "games = pd.read_csv('./datasets/steam_games.csv', low_memory=False)\n",
    "pd.DataFrame(games.columns, columns=['columns']).T"
   ],
   "metadata": {
    "pycharm": {
     "name": "#%%\n"
    },
    "id": "Va5d3rW9GTeM",
    "outputId": "debcfbb1-2d2a-4b5a-eb80-d98c9bae1d41",
    "ExecuteTime": {
     "end_time": "2024-06-01T11:56:37.960320Z",
     "start_time": "2024-06-01T11:56:36.757670Z"
    }
   }
  },
  {
   "cell_type": "code",
   "execution_count": 6,
   "outputs": [],
   "source": [
    "# Drop empty descriptions\n",
    "games = games.dropna(subset=['game_description'])"
   ],
   "metadata": {
    "collapsed": false,
    "ExecuteTime": {
     "end_time": "2024-06-01T11:56:39.412099Z",
     "start_time": "2024-06-01T11:56:39.387809Z"
    }
   }
  },
  {
   "cell_type": "code",
   "execution_count": 7,
   "outputs": [
    {
     "data": {
      "text/plain": "                                                 url types  \\\n0    https://store.steampowered.com/app/379720/DOOM/   app   \n1  https://store.steampowered.com/app/578080/PLAY...   app   \n2  https://store.steampowered.com/app/637090/BATT...   app   \n3    https://store.steampowered.com/app/221100/DayZ/   app   \n4  https://store.steampowered.com/app/8500/EVE_On...   app   \n\n                            name  \\\n0                           DOOM   \n1  PLAYERUNKNOWN'S BATTLEGROUNDS   \n2                     BATTLETECH   \n3                           DayZ   \n4                     EVE Online   \n\n                                        desc_snippet  \\\n0  Now includes all three premium DLC packs (Unto...   \n1  PLAYERUNKNOWN'S BATTLEGROUNDS is a battle roya...   \n2  Take command of your own mercenary outfit of '...   \n3  The post-soviet country of Chernarus is struck...   \n4  EVE Online is a community-driven spaceship MMO...   \n\n                                      recent_reviews  \\\n0  Very Positive,(554),- 89% of the 554 user revi...   \n1  Mixed,(6,214),- 49% of the 6,214 user reviews ...   \n2  Mixed,(166),- 54% of the 166 user reviews in t...   \n3  Mixed,(932),- 57% of the 932 user reviews in t...   \n4  Mixed,(287),- 54% of the 287 user reviews in t...   \n\n                                         all_reviews  release_date  \\\n0  Very Positive,(42,550),- 92% of the 42,550 use...  May 12, 2016   \n1  Mixed,(836,608),- 49% of the 836,608 user revi...  Dec 21, 2017   \n2  Mostly Positive,(7,030),- 71% of the 7,030 use...  Apr 24, 2018   \n3  Mixed,(167,115),- 61% of the 167,115 user revi...  Dec 13, 2018   \n4  Mostly Positive,(11,481),- 74% of the 11,481 u...   May 6, 2003   \n\n             developer                                publisher  \\\n0          id Software    Bethesda Softworks,Bethesda Softworks   \n1     PUBG Corporation        PUBG Corporation,PUBG Corporation   \n2  Harebrained Schemes  Paradox Interactive,Paradox Interactive   \n3  Bohemia Interactive  Bohemia Interactive,Bohemia Interactive   \n4                  CCP                                  CCP,CCP   \n\n                                        popular_tags  \\\n0  FPS,Gore,Action,Demons,Shooter,First-Person,Gr...   \n1  Survival,Shooter,Multiplayer,Battle Royale,PvP...   \n2  Mechs,Strategy,Turn-Based,Turn-Based Tactics,S...   \n3  Survival,Zombies,Open World,Multiplayer,PvP,Ma...   \n4  Space,Massively Multiplayer,Sci-fi,Sandbox,MMO...   \n\n                                        game_details  \\\n0  Single-player,Multi-player,Co-op,Steam Achieve...   \n1             Multi-player,Online Multi-Player,Stats   \n2  Single-player,Multi-player,Online Multi-Player...   \n3  Multi-player,Online Multi-Player,Steam Worksho...   \n4  Multi-player,Online Multi-Player,MMO,Co-op,Onl...   \n\n                                           languages  achievements  \\\n0  English,French,Italian,German,Spanish - Spain,...          54.0   \n1  English,Korean,Simplified Chinese,French,Germa...          37.0   \n2                      English,French,German,Russian         128.0   \n3  English,French,Italian,German,Spanish - Spain,...           NaN   \n4                      English,German,Russian,French           NaN   \n\n                                               genre  \\\n0                                             Action   \n1             Action,Adventure,Massively Multiplayer   \n2                          Action,Adventure,Strategy   \n3             Action,Adventure,Massively Multiplayer   \n4  Action,Free to Play,Massively Multiplayer,RPG,...   \n\n                                    game_description  \\\n0   About This Game Developed by id software, the...   \n1   About This Game  PLAYERUNKNOWN'S BATTLEGROUND...   \n2   About This Game  From original BATTLETECH/Mec...   \n3   About This Game The post-soviet country of Ch...   \n4                                  About This Game     \n\n                                      mature_content  \\\n0                                                NaN   \n1   Mature Content Description  The developers de...   \n2                                                NaN   \n3                                                NaN   \n4                                                NaN   \n\n                                minimum_requirements  \\\n0  Minimum:,OS:,Windows 7/8.1/10 (64-bit versions...   \n1  Minimum:,Requires a 64-bit processor and opera...   \n2  Minimum:,Requires a 64-bit processor and opera...   \n3  Minimum:,OS:,Windows 7/8.1 64-bit,Processor:,I...   \n4  Minimum:,OS:,Windows 7,Processor:,Intel Dual C...   \n\n                            recommended_requirements original_price  \\\n0  Recommended:,OS:,Windows 7/8.1/10 (64-bit vers...         $19.99   \n1  Recommended:,Requires a 64-bit processor and o...         $29.99   \n2  Recommended:,Requires a 64-bit processor and o...         $39.99   \n3  Recommended:,OS:,Windows 10 64-bit,Processor:,...         $44.99   \n4  Recommended:,OS:,Windows 10,Processor:,Intel i...           Free   \n\n  discount_price  \n0         $14.99  \n1            NaN  \n2            NaN  \n3            NaN  \n4            NaN  ",
      "text/html": "<div>\n<style scoped>\n    .dataframe tbody tr th:only-of-type {\n        vertical-align: middle;\n    }\n\n    .dataframe tbody tr th {\n        vertical-align: top;\n    }\n\n    .dataframe thead th {\n        text-align: right;\n    }\n</style>\n<table border=\"1\" class=\"dataframe\">\n  <thead>\n    <tr style=\"text-align: right;\">\n      <th></th>\n      <th>url</th>\n      <th>types</th>\n      <th>name</th>\n      <th>desc_snippet</th>\n      <th>recent_reviews</th>\n      <th>all_reviews</th>\n      <th>release_date</th>\n      <th>developer</th>\n      <th>publisher</th>\n      <th>popular_tags</th>\n      <th>game_details</th>\n      <th>languages</th>\n      <th>achievements</th>\n      <th>genre</th>\n      <th>game_description</th>\n      <th>mature_content</th>\n      <th>minimum_requirements</th>\n      <th>recommended_requirements</th>\n      <th>original_price</th>\n      <th>discount_price</th>\n    </tr>\n  </thead>\n  <tbody>\n    <tr>\n      <th>0</th>\n      <td>https://store.steampowered.com/app/379720/DOOM/</td>\n      <td>app</td>\n      <td>DOOM</td>\n      <td>Now includes all three premium DLC packs (Unto...</td>\n      <td>Very Positive,(554),- 89% of the 554 user revi...</td>\n      <td>Very Positive,(42,550),- 92% of the 42,550 use...</td>\n      <td>May 12, 2016</td>\n      <td>id Software</td>\n      <td>Bethesda Softworks,Bethesda Softworks</td>\n      <td>FPS,Gore,Action,Demons,Shooter,First-Person,Gr...</td>\n      <td>Single-player,Multi-player,Co-op,Steam Achieve...</td>\n      <td>English,French,Italian,German,Spanish - Spain,...</td>\n      <td>54.0</td>\n      <td>Action</td>\n      <td>About This Game Developed by id software, the...</td>\n      <td>NaN</td>\n      <td>Minimum:,OS:,Windows 7/8.1/10 (64-bit versions...</td>\n      <td>Recommended:,OS:,Windows 7/8.1/10 (64-bit vers...</td>\n      <td>$19.99</td>\n      <td>$14.99</td>\n    </tr>\n    <tr>\n      <th>1</th>\n      <td>https://store.steampowered.com/app/578080/PLAY...</td>\n      <td>app</td>\n      <td>PLAYERUNKNOWN'S BATTLEGROUNDS</td>\n      <td>PLAYERUNKNOWN'S BATTLEGROUNDS is a battle roya...</td>\n      <td>Mixed,(6,214),- 49% of the 6,214 user reviews ...</td>\n      <td>Mixed,(836,608),- 49% of the 836,608 user revi...</td>\n      <td>Dec 21, 2017</td>\n      <td>PUBG Corporation</td>\n      <td>PUBG Corporation,PUBG Corporation</td>\n      <td>Survival,Shooter,Multiplayer,Battle Royale,PvP...</td>\n      <td>Multi-player,Online Multi-Player,Stats</td>\n      <td>English,Korean,Simplified Chinese,French,Germa...</td>\n      <td>37.0</td>\n      <td>Action,Adventure,Massively Multiplayer</td>\n      <td>About This Game  PLAYERUNKNOWN'S BATTLEGROUND...</td>\n      <td>Mature Content Description  The developers de...</td>\n      <td>Minimum:,Requires a 64-bit processor and opera...</td>\n      <td>Recommended:,Requires a 64-bit processor and o...</td>\n      <td>$29.99</td>\n      <td>NaN</td>\n    </tr>\n    <tr>\n      <th>2</th>\n      <td>https://store.steampowered.com/app/637090/BATT...</td>\n      <td>app</td>\n      <td>BATTLETECH</td>\n      <td>Take command of your own mercenary outfit of '...</td>\n      <td>Mixed,(166),- 54% of the 166 user reviews in t...</td>\n      <td>Mostly Positive,(7,030),- 71% of the 7,030 use...</td>\n      <td>Apr 24, 2018</td>\n      <td>Harebrained Schemes</td>\n      <td>Paradox Interactive,Paradox Interactive</td>\n      <td>Mechs,Strategy,Turn-Based,Turn-Based Tactics,S...</td>\n      <td>Single-player,Multi-player,Online Multi-Player...</td>\n      <td>English,French,German,Russian</td>\n      <td>128.0</td>\n      <td>Action,Adventure,Strategy</td>\n      <td>About This Game  From original BATTLETECH/Mec...</td>\n      <td>NaN</td>\n      <td>Minimum:,Requires a 64-bit processor and opera...</td>\n      <td>Recommended:,Requires a 64-bit processor and o...</td>\n      <td>$39.99</td>\n      <td>NaN</td>\n    </tr>\n    <tr>\n      <th>3</th>\n      <td>https://store.steampowered.com/app/221100/DayZ/</td>\n      <td>app</td>\n      <td>DayZ</td>\n      <td>The post-soviet country of Chernarus is struck...</td>\n      <td>Mixed,(932),- 57% of the 932 user reviews in t...</td>\n      <td>Mixed,(167,115),- 61% of the 167,115 user revi...</td>\n      <td>Dec 13, 2018</td>\n      <td>Bohemia Interactive</td>\n      <td>Bohemia Interactive,Bohemia Interactive</td>\n      <td>Survival,Zombies,Open World,Multiplayer,PvP,Ma...</td>\n      <td>Multi-player,Online Multi-Player,Steam Worksho...</td>\n      <td>English,French,Italian,German,Spanish - Spain,...</td>\n      <td>NaN</td>\n      <td>Action,Adventure,Massively Multiplayer</td>\n      <td>About This Game The post-soviet country of Ch...</td>\n      <td>NaN</td>\n      <td>Minimum:,OS:,Windows 7/8.1 64-bit,Processor:,I...</td>\n      <td>Recommended:,OS:,Windows 10 64-bit,Processor:,...</td>\n      <td>$44.99</td>\n      <td>NaN</td>\n    </tr>\n    <tr>\n      <th>4</th>\n      <td>https://store.steampowered.com/app/8500/EVE_On...</td>\n      <td>app</td>\n      <td>EVE Online</td>\n      <td>EVE Online is a community-driven spaceship MMO...</td>\n      <td>Mixed,(287),- 54% of the 287 user reviews in t...</td>\n      <td>Mostly Positive,(11,481),- 74% of the 11,481 u...</td>\n      <td>May 6, 2003</td>\n      <td>CCP</td>\n      <td>CCP,CCP</td>\n      <td>Space,Massively Multiplayer,Sci-fi,Sandbox,MMO...</td>\n      <td>Multi-player,Online Multi-Player,MMO,Co-op,Onl...</td>\n      <td>English,German,Russian,French</td>\n      <td>NaN</td>\n      <td>Action,Free to Play,Massively Multiplayer,RPG,...</td>\n      <td>About This Game</td>\n      <td>NaN</td>\n      <td>Minimum:,OS:,Windows 7,Processor:,Intel Dual C...</td>\n      <td>Recommended:,OS:,Windows 10,Processor:,Intel i...</td>\n      <td>Free</td>\n      <td>NaN</td>\n    </tr>\n  </tbody>\n</table>\n</div>"
     },
     "execution_count": 7,
     "metadata": {},
     "output_type": "execute_result"
    }
   ],
   "source": [
    "games.head()"
   ],
   "metadata": {
    "pycharm": {
     "name": "#%%\n"
    },
    "id": "7Y-poeLjGTeN",
    "outputId": "272e360d-2331-4e27-8b24-aaa3ba580406",
    "ExecuteTime": {
     "end_time": "2024-06-01T11:56:41.431269Z",
     "start_time": "2024-06-01T11:56:41.417236Z"
    }
   }
  },
  {
   "cell_type": "markdown",
   "source": [
    "### Preprocessing\n",
    "\n",
    "I want to use game_description as the content for the content-based recommendation system\n",
    "The tf-idf vectorizer is used to extract features of the game description, it will transform this description into a matrix of tf-idf features.\n",
    "\n",
    "The parameter max_df will ignore words when they are used more then 80% of the time in the descriptions.\n",
    "The min_df parameter will ignore words that ore used less then 2 times in the different descriptions.\n",
    "Both of these options are there to reduce the noice."
   ],
   "metadata": {
    "collapsed": false,
    "pycharm": {
     "name": "#%% md\n"
    },
    "id": "knoqKRw1GTeO"
   }
  },
  {
   "cell_type": "code",
   "execution_count": 8,
   "outputs": [
    {
     "name": "stdout",
     "output_type": "stream",
     "text": [
      "(37920, 53601)\n"
     ]
    }
   ],
   "source": [
    "from sklearn.feature_extraction.text import TfidfVectorizer\n",
    "\n",
    "vectorizer = TfidfVectorizer(stop_words='english', max_df=0.8, min_df=2)\n",
    "\n",
    "tfidf_matrix = vectorizer.fit_transform(games['game_description'])\n",
    "print(tfidf_matrix.shape)"
   ],
   "metadata": {
    "pycharm": {
     "name": "#%%\n"
    },
    "id": "5rboi8EiGTeO",
    "outputId": "a5b565ea-6b14-414c-c4d1-f33fbc616f9c",
    "ExecuteTime": {
     "end_time": "2024-06-01T11:56:59.878289Z",
     "start_time": "2024-06-01T11:56:51.872002Z"
    }
   }
  },
  {
   "cell_type": "markdown",
   "source": [
    "## Find similar games\n",
    "\n",
    "We'll use a (K-Nearest Neighbors) KNN model to find similar games. As you might remember from earlier lessons, every KNN uses a **distance metric** to find the nearest neighbors. In this case we're going to use the **cosine similarity** as the distance metric. The cosine similarity is a measure of similarity between two non-zero vectors of an inner product space that measures the cosine of the angle between them."
   ],
   "metadata": {
    "collapsed": false,
    "pycharm": {
     "name": "#%% md\n"
    },
    "id": "XPU3nvz2GTeQ"
   }
  },
  {
   "cell_type": "markdown",
   "source": [
    "### Cosine Similarity\n",
    "\n",
    "The cosine similarity is a measure of similarity between two vectors $\\bf{x}$ and $\\bf{y}$.\n",
    "\n",
    "$cos(\\bf{x},\\bf{y}) = \\frac{\\bf{x} \\cdot \\bf{y}}{||\\bf{x}|| \\cdot ||\\bf{y}||}$\n",
    "<br/>\n",
    "$\\phantom{cos(\\bf{x},\\bf{y})} = \\frac{\\sum_{i=1}^{n} x_i y_i}{\\sqrt{\\sum_{i=1}^{n}(x_i)^2} \\sqrt{\\sum_{i=1}^{n}(y_i)^2}}$\n",
    "\n",
    "where $\\bf{x}$ and $\\bf{y}$ are vectors and $||\\bf{x}||$ and $||\\bf{y}||$ are the norms of $\\bf{x}$ and $\\bf{y}$ and where $x_i$ and $y_i$ are the term frequency of the $i$th word in the two documents.\n",
    "\n",
    "The cosine similarity has the following properties, it is:\n",
    "\n",
    "* a **normalized dot product**.\n",
    "* **independent of the magnitude** of the vectors.\n",
    "* is **zero** if the two vectors are **orthogonal** and **one** if the two vectors are **equal**.\n",
    "* **symmetric**, this means that the similarity between A and B is the same as the similarity between B and A.\n",
    "* **non-negative**\n",
    "* **bounded** between 0 and 1, this means that the similarity between two vectors is always between 0 and 1.\n",
    "\n",
    "We're going to compute the **cosine similarity** between different movies based on their plot summary _term frequency occurence - signature_. That is the vector representation of the plot summary. The higher the cosine similarity, the more similar the movies are.\n",
    "\n",
    "SciKit-Learn provides a function to compute the cosine similarity between two vectors. We could use that function to compute the cosine similarity between the plot summaries of the movies, but in this case we're going to use a kNN model to find the nearest neighbors of a movie. The kNN model has a parameter called `metric` that we can set to `cosine` to use the cosine similarity as the distance metric.\n"
   ],
   "metadata": {
    "collapsed": false,
    "pycharm": {
     "name": "#%% md\n"
    },
    "id": "WgYfkeFhGTeQ"
   }
  },
  {
   "cell_type": "markdown",
   "source": [],
   "metadata": {
    "collapsed": false,
    "pycharm": {
     "name": "#%% md\n"
    },
    "id": "5vk3WqImGTeR"
   }
  },
  {
   "cell_type": "code",
   "execution_count": 9,
   "outputs": [],
   "source": [
    "from sklearn.neighbors import NearestNeighbors\n",
    "\n",
    "def get_content_based_recommendation(name, top_n=10, metric='cosine'):\n",
    "    # Get the index of the game that matches the title\n",
    "    # we'll use that index to locate the row in the tf-idf matrix that corresponds to that game\n",
    "\n",
    "    if name.lower() not in games['name'].str.lower().values:\n",
    "        return \"Title not found in the dataset\"\n",
    "    \n",
    "    idx = games[games.name.str.lower() == name.lower()].index[0]\n",
    "    model = NearestNeighbors(n_neighbors=top_n, metric=metric)\n",
    "    model.fit(tfidf_matrix)\n",
    "    similar_games = model.kneighbors(tfidf_matrix[idx], return_distance=False)[0]\n",
    "    similar_games = similar_games.flatten()[1:]\n",
    "\n",
    "    # Return the top 10 most similar games\n",
    "    return games.iloc[similar_games]"
   ],
   "metadata": {
    "pycharm": {
     "name": "#%%\n"
    },
    "id": "olPLhj9cGTeR",
    "ExecuteTime": {
     "end_time": "2024-06-01T11:57:05.969393Z",
     "start_time": "2024-06-01T11:57:05.051783Z"
    }
   }
  },
  {
   "cell_type": "markdown",
   "source": [
    "#### Test1\n",
    "\n",
    "From experience i can say that the predicted games are indeed a good recommendation."
   ],
   "metadata": {
    "collapsed": false
   }
  },
  {
   "cell_type": "code",
   "execution_count": 10,
   "outputs": [
    {
     "data": {
      "text/plain": "                              name  \\\n839            Doom 3: BFG Edition   \n788                       DOOM VFR   \n366                   DOOM Eternal   \n7687      The Haunted: Hells Reach   \n35380                 UNLEASH HELL   \n1652          Hell is Other Demons   \n2105   DOOM 3 Resurrection of Evil   \n7780                        HordeZ   \n96                   Ultimate Doom   \n\n                                        game_description         genre  \\\n839     About This Game DOOM 3 BFG Edition is the ult...        Action   \n788     About This Game Developed by id Software, the...        Action   \n366     About This Game As the DOOM Slayer, you retur...        Action   \n7687    About This Game All Hell Has Broken Loose!!! ...  Action,Indie   \n35380   About This Game UNLEASH HELL is a brutally ha...  Action,Indie   \n1652    About This Game  A Fast-Paced Bullet Hell Pla...  Action,Indie   \n2105    About This Content  The gripping expansion pa...        Action   \n7780    About This Game  Available for Arcades on Spr...  Action,Indie   \n96      About This Game The complete megahit game tha...        Action   \n\n                                            popular_tags  release_date  \n839    FPS,Horror,Action,Shooter,Classic,Sci-fi,Singl...  Oct 15, 2012  \n788    Violent,Action,Gore,VR,FPS,Shooter,Horror,Sing...  Nov 30, 2017  \n366    Gore,Violent,Action,FPS,Great Soundtrack,Demon...  Nov 22, 2019  \n7687   Action,Indie,Gore,Co-op,Third-Person Shooter,Z...  Oct 24, 2011  \n35380                      Action,Indie,Gore,Violent,FPS           TBA  \n1652   Indie,Action,Pixel Graphics,Platformer,Great S...  May 20, 2019  \n2105   Action,FPS,Horror,Sci-fi,Dark,Atmospheric,Shoo...   Apr 3, 2005  \n7780   Action,Indie,FPS,Horror,VR,Shooter,On-Rails Sh...  Apr 29, 2016  \n96     Classic,FPS,Action,1990's,Great Soundtrack,Dem...  Apr 30, 1995  ",
      "text/html": "<div>\n<style scoped>\n    .dataframe tbody tr th:only-of-type {\n        vertical-align: middle;\n    }\n\n    .dataframe tbody tr th {\n        vertical-align: top;\n    }\n\n    .dataframe thead th {\n        text-align: right;\n    }\n</style>\n<table border=\"1\" class=\"dataframe\">\n  <thead>\n    <tr style=\"text-align: right;\">\n      <th></th>\n      <th>name</th>\n      <th>game_description</th>\n      <th>genre</th>\n      <th>popular_tags</th>\n      <th>release_date</th>\n    </tr>\n  </thead>\n  <tbody>\n    <tr>\n      <th>839</th>\n      <td>Doom 3: BFG Edition</td>\n      <td>About This Game DOOM 3 BFG Edition is the ult...</td>\n      <td>Action</td>\n      <td>FPS,Horror,Action,Shooter,Classic,Sci-fi,Singl...</td>\n      <td>Oct 15, 2012</td>\n    </tr>\n    <tr>\n      <th>788</th>\n      <td>DOOM VFR</td>\n      <td>About This Game Developed by id Software, the...</td>\n      <td>Action</td>\n      <td>Violent,Action,Gore,VR,FPS,Shooter,Horror,Sing...</td>\n      <td>Nov 30, 2017</td>\n    </tr>\n    <tr>\n      <th>366</th>\n      <td>DOOM Eternal</td>\n      <td>About This Game As the DOOM Slayer, you retur...</td>\n      <td>Action</td>\n      <td>Gore,Violent,Action,FPS,Great Soundtrack,Demon...</td>\n      <td>Nov 22, 2019</td>\n    </tr>\n    <tr>\n      <th>7687</th>\n      <td>The Haunted: Hells Reach</td>\n      <td>About This Game All Hell Has Broken Loose!!! ...</td>\n      <td>Action,Indie</td>\n      <td>Action,Indie,Gore,Co-op,Third-Person Shooter,Z...</td>\n      <td>Oct 24, 2011</td>\n    </tr>\n    <tr>\n      <th>35380</th>\n      <td>UNLEASH HELL</td>\n      <td>About This Game UNLEASH HELL is a brutally ha...</td>\n      <td>Action,Indie</td>\n      <td>Action,Indie,Gore,Violent,FPS</td>\n      <td>TBA</td>\n    </tr>\n    <tr>\n      <th>1652</th>\n      <td>Hell is Other Demons</td>\n      <td>About This Game  A Fast-Paced Bullet Hell Pla...</td>\n      <td>Action,Indie</td>\n      <td>Indie,Action,Pixel Graphics,Platformer,Great S...</td>\n      <td>May 20, 2019</td>\n    </tr>\n    <tr>\n      <th>2105</th>\n      <td>DOOM 3 Resurrection of Evil</td>\n      <td>About This Content  The gripping expansion pa...</td>\n      <td>Action</td>\n      <td>Action,FPS,Horror,Sci-fi,Dark,Atmospheric,Shoo...</td>\n      <td>Apr 3, 2005</td>\n    </tr>\n    <tr>\n      <th>7780</th>\n      <td>HordeZ</td>\n      <td>About This Game  Available for Arcades on Spr...</td>\n      <td>Action,Indie</td>\n      <td>Action,Indie,FPS,Horror,VR,Shooter,On-Rails Sh...</td>\n      <td>Apr 29, 2016</td>\n    </tr>\n    <tr>\n      <th>96</th>\n      <td>Ultimate Doom</td>\n      <td>About This Game The complete megahit game tha...</td>\n      <td>Action</td>\n      <td>Classic,FPS,Action,1990's,Great Soundtrack,Dem...</td>\n      <td>Apr 30, 1995</td>\n    </tr>\n  </tbody>\n</table>\n</div>"
     },
     "execution_count": 10,
     "metadata": {},
     "output_type": "execute_result"
    }
   ],
   "source": [
    "get_content_based_recommendation('DOOM')[['name', 'game_description', 'genre', 'popular_tags', 'release_date']]"
   ],
   "metadata": {
    "pycharm": {
     "name": "#%%\n"
    },
    "id": "nnrCEAFVGTeR",
    "outputId": "951f059e-8635-48aa-b936-07d9b7a50cad",
    "ExecuteTime": {
     "end_time": "2024-06-01T11:57:10.043432Z",
     "start_time": "2024-06-01T11:57:09.921981Z"
    }
   }
  },
  {
   "cell_type": "markdown",
   "source": [
    "#### Test2\n",
    "\n",
    "From experience i can say that the predicted games are indeed a good recommendation."
   ],
   "metadata": {
    "collapsed": false
   }
  },
  {
   "cell_type": "code",
   "execution_count": 11,
   "outputs": [
    {
     "data": {
      "text/plain": "                                  name  \\\n9859                          MechCorp   \n821      MechWarrior Online™ Solaris 7   \n24113                  Techwars Online   \n1463         Override: Mech City Brawl   \n2720                    Mechs V Kaijus   \n27670           BATTLETECH Season Pass   \n6295              Melting World Online   \n111                    Battle Brothers   \n24035  Dark Horizons: Mechanized Corps   \n\n                                        game_description  \\\n9859    About This Game MechCorp. is a turn-based-tac...   \n821     About This Game  MechWarrior Online™ Solaris ...   \n24113   About This Game Techwars Online is a hardcore...   \n1463    About This Game  No gears, no glory! Control ...   \n2720    About This Game In Mechs V Kaijus you take on...   \n27670   About This Content  The BATTLETECH Season Pas...   \n6295    About This Game  After the cataclysm that led...   \n111     About This Game  Battle Brothers is a turn ba...   \n24035   About This Game WARNING: THIS GAME IS CURRENT...   \n\n                                                   genre  \\\n9859                                            Strategy   \n821    Action,Free to Play,Massively Multiplayer,Simu...   \n24113        Action,Indie,Massively Multiplayer,Strategy   \n1463                                        Action,Indie   \n2720                  Action,Indie,Strategy,Early Access   \n27670                          Action,Adventure,Strategy   \n6295   Adventure,Indie,Massively Multiplayer,RPG,Stra...   \n111                                   Indie,RPG,Strategy   \n24035               Action,Indie,Simulation,Early Access   \n\n                                            popular_tags  release_date  \n9859   Strategy,Turn-Based Tactics,Mechs,Hex Grid,Sci...   Aug 2, 2018  \n821    Free to Play,Mechs,Multiplayer,Action,Shooter,...  Dec 10, 2015  \n24113  Strategy,Massively Multiplayer,Indie,Action,Tu...  Mar 17, 2016  \n1463   Action,Indie,Mechs,Fighting,Local Co-Op,4 Play...   Dec 3, 2018  \n2720   Early Access,Action,Indie,Strategy,Tower Defen...   May 4, 2018  \n27670                          Strategy,Action,Adventure  Nov 27, 2018  \n6295   Strategy,Indie,Mechs,RPG,Adventure,Turn-Based,...   Oct 4, 2018  \n111    Strategy,Turn-Based Combat,Medieval,RPG,Turn-B...  Mar 24, 2017  \n24035  Early Access,Mechs,Action,Indie,Simulation,Ear...  Jul 22, 2014  ",
      "text/html": "<div>\n<style scoped>\n    .dataframe tbody tr th:only-of-type {\n        vertical-align: middle;\n    }\n\n    .dataframe tbody tr th {\n        vertical-align: top;\n    }\n\n    .dataframe thead th {\n        text-align: right;\n    }\n</style>\n<table border=\"1\" class=\"dataframe\">\n  <thead>\n    <tr style=\"text-align: right;\">\n      <th></th>\n      <th>name</th>\n      <th>game_description</th>\n      <th>genre</th>\n      <th>popular_tags</th>\n      <th>release_date</th>\n    </tr>\n  </thead>\n  <tbody>\n    <tr>\n      <th>9859</th>\n      <td>MechCorp</td>\n      <td>About This Game MechCorp. is a turn-based-tac...</td>\n      <td>Strategy</td>\n      <td>Strategy,Turn-Based Tactics,Mechs,Hex Grid,Sci...</td>\n      <td>Aug 2, 2018</td>\n    </tr>\n    <tr>\n      <th>821</th>\n      <td>MechWarrior Online™ Solaris 7</td>\n      <td>About This Game  MechWarrior Online™ Solaris ...</td>\n      <td>Action,Free to Play,Massively Multiplayer,Simu...</td>\n      <td>Free to Play,Mechs,Multiplayer,Action,Shooter,...</td>\n      <td>Dec 10, 2015</td>\n    </tr>\n    <tr>\n      <th>24113</th>\n      <td>Techwars Online</td>\n      <td>About This Game Techwars Online is a hardcore...</td>\n      <td>Action,Indie,Massively Multiplayer,Strategy</td>\n      <td>Strategy,Massively Multiplayer,Indie,Action,Tu...</td>\n      <td>Mar 17, 2016</td>\n    </tr>\n    <tr>\n      <th>1463</th>\n      <td>Override: Mech City Brawl</td>\n      <td>About This Game  No gears, no glory! Control ...</td>\n      <td>Action,Indie</td>\n      <td>Action,Indie,Mechs,Fighting,Local Co-Op,4 Play...</td>\n      <td>Dec 3, 2018</td>\n    </tr>\n    <tr>\n      <th>2720</th>\n      <td>Mechs V Kaijus</td>\n      <td>About This Game In Mechs V Kaijus you take on...</td>\n      <td>Action,Indie,Strategy,Early Access</td>\n      <td>Early Access,Action,Indie,Strategy,Tower Defen...</td>\n      <td>May 4, 2018</td>\n    </tr>\n    <tr>\n      <th>27670</th>\n      <td>BATTLETECH Season Pass</td>\n      <td>About This Content  The BATTLETECH Season Pas...</td>\n      <td>Action,Adventure,Strategy</td>\n      <td>Strategy,Action,Adventure</td>\n      <td>Nov 27, 2018</td>\n    </tr>\n    <tr>\n      <th>6295</th>\n      <td>Melting World Online</td>\n      <td>About This Game  After the cataclysm that led...</td>\n      <td>Adventure,Indie,Massively Multiplayer,RPG,Stra...</td>\n      <td>Strategy,Indie,Mechs,RPG,Adventure,Turn-Based,...</td>\n      <td>Oct 4, 2018</td>\n    </tr>\n    <tr>\n      <th>111</th>\n      <td>Battle Brothers</td>\n      <td>About This Game  Battle Brothers is a turn ba...</td>\n      <td>Indie,RPG,Strategy</td>\n      <td>Strategy,Turn-Based Combat,Medieval,RPG,Turn-B...</td>\n      <td>Mar 24, 2017</td>\n    </tr>\n    <tr>\n      <th>24035</th>\n      <td>Dark Horizons: Mechanized Corps</td>\n      <td>About This Game WARNING: THIS GAME IS CURRENT...</td>\n      <td>Action,Indie,Simulation,Early Access</td>\n      <td>Early Access,Mechs,Action,Indie,Simulation,Ear...</td>\n      <td>Jul 22, 2014</td>\n    </tr>\n  </tbody>\n</table>\n</div>"
     },
     "execution_count": 11,
     "metadata": {},
     "output_type": "execute_result"
    }
   ],
   "source": [
    "get_content_based_recommendation('BATTLETECH')[['name', 'game_description', 'genre', 'popular_tags', 'release_date']]\n"
   ],
   "metadata": {
    "pycharm": {
     "name": "#%%\n"
    },
    "id": "DseA_-0sGTeS",
    "outputId": "8c5b3932-97cc-4367-8a82-6c895a9ea35c",
    "ExecuteTime": {
     "end_time": "2024-06-01T11:57:12.281619Z",
     "start_time": "2024-06-01T11:57:12.168282Z"
    }
   }
  }
 ],
 "metadata": {
  "kernelspec": {
   "display_name": "Python 3",
   "language": "python",
   "name": "python3"
  },
  "language_info": {
   "codemirror_mode": {
    "name": "ipython",
    "version": 2
   },
   "file_extension": ".py",
   "mimetype": "text/x-python",
   "name": "python",
   "nbconvert_exporter": "python",
   "pygments_lexer": "ipython2",
   "version": "2.7.6"
  },
  "colab": {
   "provenance": []
  }
 },
 "nbformat": 4,
 "nbformat_minor": 0
}
