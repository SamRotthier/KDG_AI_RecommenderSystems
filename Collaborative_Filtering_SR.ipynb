{
 "cells": [
  {
   "cell_type": "markdown",
   "source": [
    "# Collaborative Filtering"
   ],
   "metadata": {
    "collapsed": false,
    "pycharm": {
     "name": "#%% md\n"
    },
    "id": "LcnagHnH5Z4y"
   }
  },
  {
   "cell_type": "markdown",
   "source": [
    "## Import the dataset\n",
    "Dataset= https://www.kaggle.com/datasets/saurabhbagchi/books-dataset\n",
    "In this Notebook the dataset ratings.csv is used."
   ],
   "metadata": {
    "collapsed": false,
    "pycharm": {
     "name": "#%% md\n"
    },
    "id": "az2nCgr85Z46"
   }
  },
  {
   "cell_type": "code",
   "execution_count": 1,
   "outputs": [
    {
     "name": "stdout",
     "output_type": "stream",
     "text": [
      "Amount of users: 105283 | Amount of books: 340556\n"
     ]
    }
   ],
   "source": [
    "# Importing the dataset\n",
    "import pandas as pd\n",
    "\n",
    "book_ratings = pd.read_csv('./datasets/books_data/ratings.csv', sep=';', encoding='latin-1') #latin-1 was used because UTF8 didn't work\n",
    "book_ratings.columns = [\"User_ID\", \"ISBN\", \"Book_Rating\"]\n",
    "\n",
    "# unique number of users and books (items)\n",
    "print(f'Amount of users: {book_ratings.User_ID.nunique()} | Amount of books: {book_ratings.ISBN.nunique()}')"
   ],
   "metadata": {
    "pycharm": {
     "name": "#%%\n"
    },
    "colab": {
     "base_uri": "https://localhost:8080/"
    },
    "id": "doQwDrjx5Z47",
    "executionInfo": {
     "status": "ok",
     "timestamp": 1715511839441,
     "user_tz": -120,
     "elapsed": 279,
     "user": {
      "displayName": "Levi Slap",
      "userId": "18094766192890683681"
     }
    },
    "outputId": "2f9884b2-473f-4294-a437-6ab41d316d3d",
    "ExecuteTime": {
     "end_time": "2024-06-01T11:23:17.679229Z",
     "start_time": "2024-06-01T11:23:14.600515Z"
    }
   }
  },
  {
   "cell_type": "code",
   "execution_count": 2,
   "outputs": [],
   "source": [
    "# Cut dataset in 4 (so my pc is able to process the data)\n",
    "cut = len(book_ratings) // 4\n",
    "book_ratings = book_ratings.iloc[:cut]"
   ],
   "metadata": {
    "collapsed": false,
    "ExecuteTime": {
     "end_time": "2024-06-01T11:23:43.983690Z",
     "start_time": "2024-06-01T11:23:43.979325Z"
    }
   }
  },
  {
   "cell_type": "code",
   "execution_count": 3,
   "outputs": [],
   "source": [
    "# Remove all rows where ISBN is not valid\n",
    "isbn_digits = book_ratings[\"ISBN\"].str.isdigit()\n",
    "book_ratings= book_ratings[isbn_digits]\n",
    "book_ratings = book_ratings[book_ratings['ISBN'] != '0000000000']\n",
    "book_ratings = book_ratings[book_ratings['ISBN'] != '00000000000']"
   ],
   "metadata": {
    "collapsed": false,
    "ExecuteTime": {
     "end_time": "2024-06-01T11:23:45.483557Z",
     "start_time": "2024-06-01T11:23:45.360876Z"
    }
   }
  },
  {
   "cell_type": "code",
   "execution_count": 4,
   "outputs": [],
   "source": [
    "# Only keep users that have at least 50 book reviews (to lower the dataset amount again)\n",
    "count_users = book_ratings['User_ID'].value_counts()\n",
    "book_ratings = book_ratings[book_ratings['User_ID'].isin(count_users[count_users >= 50].index)]"
   ],
   "metadata": {
    "collapsed": false,
    "ExecuteTime": {
     "end_time": "2024-06-01T11:23:46.408500Z",
     "start_time": "2024-06-01T11:23:46.381156Z"
    }
   }
  },
  {
   "cell_type": "code",
   "execution_count": 5,
   "outputs": [
    {
     "data": {
      "text/plain": "     User_ID        ISBN  Book_Rating\n412   276925  0006511929            0\n414   276925  0060520507            0\n415   276925  0060930934            0\n416   276925  0060951303            0\n417   276925  0099414732            7",
      "text/html": "<div>\n<style scoped>\n    .dataframe tbody tr th:only-of-type {\n        vertical-align: middle;\n    }\n\n    .dataframe tbody tr th {\n        vertical-align: top;\n    }\n\n    .dataframe thead th {\n        text-align: right;\n    }\n</style>\n<table border=\"1\" class=\"dataframe\">\n  <thead>\n    <tr style=\"text-align: right;\">\n      <th></th>\n      <th>User_ID</th>\n      <th>ISBN</th>\n      <th>Book_Rating</th>\n    </tr>\n  </thead>\n  <tbody>\n    <tr>\n      <th>412</th>\n      <td>276925</td>\n      <td>0006511929</td>\n      <td>0</td>\n    </tr>\n    <tr>\n      <th>414</th>\n      <td>276925</td>\n      <td>0060520507</td>\n      <td>0</td>\n    </tr>\n    <tr>\n      <th>415</th>\n      <td>276925</td>\n      <td>0060930934</td>\n      <td>0</td>\n    </tr>\n    <tr>\n      <th>416</th>\n      <td>276925</td>\n      <td>0060951303</td>\n      <td>0</td>\n    </tr>\n    <tr>\n      <th>417</th>\n      <td>276925</td>\n      <td>0099414732</td>\n      <td>7</td>\n    </tr>\n  </tbody>\n</table>\n</div>"
     },
     "execution_count": 5,
     "metadata": {},
     "output_type": "execute_result"
    }
   ],
   "source": [
    "book_ratings.head()"
   ],
   "metadata": {
    "collapsed": false,
    "ExecuteTime": {
     "end_time": "2024-06-01T11:23:47.929441Z",
     "start_time": "2024-06-01T11:23:47.916192Z"
    }
   }
  },
  {
   "cell_type": "code",
   "execution_count": 6,
   "outputs": [
    {
     "name": "stdout",
     "output_type": "stream",
     "text": [
      "Book_Rating\n",
      "0     116169\n",
      "8      12934\n",
      "10     12015\n",
      "7       9466\n",
      "9       8308\n",
      "5       5741\n",
      "6       4336\n",
      "4        971\n",
      "3        613\n",
      "2        324\n",
      "1        303\n",
      "Name: count, dtype: int64\n"
     ]
    }
   ],
   "source": [
    "# Checking the frequency of book ratings, to detect anomalies\n",
    "rating_counts = book_ratings['Book_Rating'].value_counts()\n",
    "print(rating_counts)"
   ],
   "metadata": {
    "collapsed": false,
    "ExecuteTime": {
     "end_time": "2024-06-01T11:23:49.650982Z",
     "start_time": "2024-06-01T11:23:49.641937Z"
    }
   }
  },
  {
   "cell_type": "code",
   "execution_count": 7,
   "outputs": [
    {
     "data": {
      "text/plain": "     User_ID        ISBN  Book_Rating\n417   276925  0099414732            7\n418   276925  0140154078            6\n424   276925  0194216748            5\n429   276925  0385504209            8\n438   276925  0553275283            8",
      "text/html": "<div>\n<style scoped>\n    .dataframe tbody tr th:only-of-type {\n        vertical-align: middle;\n    }\n\n    .dataframe tbody tr th {\n        vertical-align: top;\n    }\n\n    .dataframe thead th {\n        text-align: right;\n    }\n</style>\n<table border=\"1\" class=\"dataframe\">\n  <thead>\n    <tr style=\"text-align: right;\">\n      <th></th>\n      <th>User_ID</th>\n      <th>ISBN</th>\n      <th>Book_Rating</th>\n    </tr>\n  </thead>\n  <tbody>\n    <tr>\n      <th>417</th>\n      <td>276925</td>\n      <td>0099414732</td>\n      <td>7</td>\n    </tr>\n    <tr>\n      <th>418</th>\n      <td>276925</td>\n      <td>0140154078</td>\n      <td>6</td>\n    </tr>\n    <tr>\n      <th>424</th>\n      <td>276925</td>\n      <td>0194216748</td>\n      <td>5</td>\n    </tr>\n    <tr>\n      <th>429</th>\n      <td>276925</td>\n      <td>0385504209</td>\n      <td>8</td>\n    </tr>\n    <tr>\n      <th>438</th>\n      <td>276925</td>\n      <td>0553275283</td>\n      <td>8</td>\n    </tr>\n  </tbody>\n</table>\n</div>"
     },
     "execution_count": 7,
     "metadata": {},
     "output_type": "execute_result"
    }
   ],
   "source": [
    "# The 0 rating is used a lot, Indicate the user didn't rate the book. Therefore, we remove these from the dataset.\n",
    "book_ratings = book_ratings[book_ratings['Book_Rating'] != 0]\n",
    "book_ratings.head()"
   ],
   "metadata": {
    "collapsed": false,
    "ExecuteTime": {
     "end_time": "2024-06-01T11:23:52.001120Z",
     "start_time": "2024-06-01T11:23:51.986523Z"
    }
   }
  },
  {
   "cell_type": "markdown",
   "source": [
    "## Train-test split\n",
    "The Test Train split is done with the train_test_split function to split the dataset into a training- and a test set. \n",
    "Here I chose for a 80/20 split of train and test data.\n",
    "The dataset is stratified (sorting in groups or layers) on the book ratings. \n",
    "This is done so that the different kinds of ratings are equally distributed on the 2 sets"
   ],
   "metadata": {
    "collapsed": false,
    "pycharm": {
     "name": "#%% md\n"
    },
    "id": "UL7mEE_u5Z49"
   }
  },
  {
   "cell_type": "code",
   "execution_count": 8,
   "outputs": [],
   "source": [
    "from sklearn.model_selection import train_test_split\n",
    "\n",
    "X_train, X_test, y_train, y_test = train_test_split(book_ratings, book_ratings.Book_Rating, test_size=0.20, stratify=book_ratings.Book_Rating, random_state=42)"
   ],
   "metadata": {
    "pycharm": {
     "name": "#%%\n"
    },
    "id": "2eZnIAeV5Z4-",
    "executionInfo": {
     "status": "ok",
     "timestamp": 1715511846825,
     "user_tz": -120,
     "elapsed": 249,
     "user": {
      "displayName": "Levi Slap",
      "userId": "18094766192890683681"
     }
    },
    "ExecuteTime": {
     "end_time": "2024-06-01T11:23:57.604913Z",
     "start_time": "2024-06-01T11:23:53.914094Z"
    }
   }
  },
  {
   "cell_type": "markdown",
   "source": [
    "## User-based Collaborative Filtering"
   ],
   "metadata": {
    "collapsed": false,
    "pycharm": {
     "name": "#%% md\n"
    },
    "id": "aU3PwAm75Z4-"
   }
  },
  {
   "cell_type": "markdown",
   "source": [
    "### SVG (Singular Value Decomposition Model)\n",
    "This model processes a user-item matrix by decomposing it into three separate matrices: users, items, and ratings. \n",
    "The algorithm identifies patterns (hidden features) of user preferences, enabling it to predict how users might rate items they haven't rated yet."
   ],
   "metadata": {
    "collapsed": false,
    "pycharm": {
     "name": "#%% md\n"
    },
    "id": "sC_PHogY5Z5B"
   }
  },
  {
   "cell_type": "markdown",
   "source": [
    "#### Prediction\n",
    "Issues with Suriprise:\n",
    "I had a lot of issues importing surprise.\n",
    "I tried installing with Pip -> Gave loads of different errors\n",
    "I tried installing the whole git -> Wasn't recognized in the code\n",
    "I tried changing the environment to condas was the solution -> Was the solution\n",
    "total hours spend on the problem: 4"
   ],
   "metadata": {
    "collapsed": false
   }
  },
  {
   "cell_type": "code",
   "execution_count": 9,
   "outputs": [
    {
     "name": "stdout",
     "output_type": "stream",
     "text": [
      "Predicted rating:  7.313006598955723\n"
     ]
    }
   ],
   "source": [
    "# Making a prediction for 1 user with 1 book\n",
    "from surprise import Reader, Dataset, SVD\n",
    "\n",
    "reader = Reader(rating_scale=(1, 10))\n",
    "data = Dataset.load_from_df(book_ratings[['User_ID', 'ISBN', 'Book_Rating']], reader)\n",
    "algo = SVD()\n",
    "trainingSet = data.build_full_trainset()\n",
    "algo.fit(trainingSet)\n",
    "predicted_rating = algo.predict(276925, '0373243944') # Random number\n",
    "print(\"Predicted rating: \", predicted_rating.est)"
   ],
   "metadata": {
    "collapsed": false,
    "ExecuteTime": {
     "end_time": "2024-06-01T11:24:00.660633Z",
     "start_time": "2024-06-01T11:23:59.721734Z"
    }
   }
  },
  {
   "cell_type": "markdown",
   "source": [],
   "metadata": {
    "collapsed": false
   }
  },
  {
   "cell_type": "markdown",
   "source": [
    "#### Model train and test\n",
    "\n",
    "In the code below, I used the SVD algorithm to train a model with the training data. \n",
    "After training, I tested the model by predicting ratings. \n",
    "The Root Mean Squared Error (RMSE) measures the accuracy of these predictions.\n",
    "The RMSE indicates how close the model's predictions are to the actual ratings in the test data.\n",
    "\n",
    "As we will see belown the SVD model will predict the score relatively well.\n",
    "In my testing we see that it's average deviation is 1.6-1.65, which for a score between 1 and 10 is good in my eyes."
   ],
   "metadata": {
    "collapsed": false
   }
  },
  {
   "cell_type": "code",
   "execution_count": 15,
   "outputs": [
    {
     "name": "stdout",
     "output_type": "stream",
     "text": [
      "RMSE: 1.6370\n"
     ]
    }
   ],
   "source": [
    "from surprise import accuracy\n",
    "\n",
    "reader = Reader(rating_scale=(1, 10))\n",
    "train_data = Dataset.load_from_df(X_train[['User_ID', 'ISBN', 'Book_Rating']], reader)\n",
    "test_data = Dataset.load_from_df(X_test[['User_ID', 'ISBN', 'Book_Rating']], reader)\n",
    "algo = SVD()\n",
    "trainingSet = train_data.build_full_trainset()\n",
    "algo.fit(trainingSet)\n",
    "testset = [(row['User_ID'], row['ISBN'], row['Book_Rating']) for index, row in X_test.iterrows()]\n",
    "predictions = algo.test(testset)\n",
    "rmse = accuracy.rmse(predictions)"
   ],
   "metadata": {
    "pycharm": {
     "name": "#%%\n"
    },
    "id": "YXSsz5Ou5Z5B",
    "executionInfo": {
     "status": "ok",
     "timestamp": 1715512089773,
     "user_tz": -120,
     "elapsed": 316,
     "user": {
      "displayName": "Levi Slap",
      "userId": "18094766192890683681"
     }
    },
    "ExecuteTime": {
     "end_time": "2024-06-01T11:26:46.383109Z",
     "start_time": "2024-06-01T11:26:44.896635Z"
    }
   }
  },
  {
   "cell_type": "markdown",
   "source": [
    "### K-Nearest Neighbors Model (KNN)\n",
    "\n",
    "With the KNN Algorithm, we can see the similarity between users and their rating patterns.\n",
    "This is useful for recommending a similar book."
   ],
   "metadata": {
    "collapsed": false
   }
  },
  {
   "cell_type": "markdown",
   "source": [
    "#### Prediction\n",
    "\n",
    "The prediction rate is higher than with the SVD model.\n",
    "This could indicate a worse model."
   ],
   "metadata": {
    "collapsed": false
   }
  },
  {
   "cell_type": "code",
   "execution_count": 12,
   "outputs": [
    {
     "name": "stdout",
     "output_type": "stream",
     "text": [
      "Computing the cosine similarity matrix...\n",
      "Done computing similarity matrix.\n",
      "Predicted rating:  7.744832851611496\n"
     ]
    }
   ],
   "source": [
    "# Making a prediction for 1 user with 1 book\n",
    "from surprise import KNNBasic\n",
    "\n",
    "reader = Reader(rating_scale=(1, 10))\n",
    "data = Dataset.load_from_df(book_ratings[['User_ID', 'ISBN', 'Book_Rating']], reader)\n",
    "k=40 # number of neighbors\n",
    "similarity_metric = 'cosine'\n",
    "algo = KNNBasic(k=k, sim_options={'name': similarity_metric})\n",
    "trainingSet = data.build_full_trainset()\n",
    "algo.fit(trainingSet)\n",
    "predicted_rating = algo.predict(276925, '0373243944')\n",
    "print(\"Predicted rating: \", predicted_rating.est)"
   ],
   "metadata": {
    "collapsed": false,
    "ExecuteTime": {
     "end_time": "2024-06-01T11:24:39.124786Z",
     "start_time": "2024-06-01T11:24:38.863001Z"
    }
   }
  },
  {
   "cell_type": "markdown",
   "source": [
    "#### Model train and test\n",
    "\n",
    "In the results we see that the deviation is more than with SVD.\n",
    "This means that the model is less accurate with its predictions."
   ],
   "metadata": {
    "collapsed": false
   }
  },
  {
   "cell_type": "code",
   "execution_count": 13,
   "outputs": [
    {
     "name": "stdout",
     "output_type": "stream",
     "text": [
      "Computing the cosine similarity matrix...\n",
      "Done computing similarity matrix.\n",
      "RMSE: 1.9648\n"
     ]
    }
   ],
   "source": [
    "reader = Reader(rating_scale=(1, 10))\n",
    "train_data = Dataset.load_from_df(X_train[['User_ID', 'ISBN', 'Book_Rating']], reader)\n",
    "test_data = Dataset.load_from_df(X_test[['User_ID', 'ISBN', 'Book_Rating']], reader)\n",
    "k=40 # number of neighbors\n",
    "similarity_metric = 'cosine'\n",
    "algo = KNNBasic(k=k, sim_options={'name': similarity_metric})\n",
    "trainingSet = train_data.build_full_trainset()\n",
    "algo.fit(trainingSet)\n",
    "testset = [(row['User_ID'], row['ISBN'], row['Book_Rating']) for index, row in X_test.iterrows()]\n",
    "predictions = algo.test(testset)\n",
    "rmse = accuracy.rmse(predictions)"
   ],
   "metadata": {
    "collapsed": false,
    "ExecuteTime": {
     "end_time": "2024-06-01T11:24:48.175059Z",
     "start_time": "2024-06-01T11:24:46.485661Z"
    }
   }
  }
 ],
 "metadata": {
  "kernelspec": {
   "display_name": "Python 3",
   "language": "python",
   "name": "python3"
  },
  "language_info": {
   "codemirror_mode": {
    "name": "ipython",
    "version": 2
   },
   "file_extension": ".py",
   "mimetype": "text/x-python",
   "name": "python",
   "nbconvert_exporter": "python",
   "pygments_lexer": "ipython2",
   "version": "2.7.6"
  },
  "colab": {
   "provenance": []
  }
 },
 "nbformat": 4,
 "nbformat_minor": 0
}
